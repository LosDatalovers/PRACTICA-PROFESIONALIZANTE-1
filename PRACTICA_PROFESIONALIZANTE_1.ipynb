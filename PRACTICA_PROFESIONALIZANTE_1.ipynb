{
  "nbformat": 4,
  "nbformat_minor": 0,
  "metadata": {
    "colab": {
      "provenance": [],
      "authorship_tag": "ABX9TyNgw0IdpxrzN6gxxAe690yx",
      "include_colab_link": true
    },
    "kernelspec": {
      "name": "python3",
      "display_name": "Python 3"
    },
    "language_info": {
      "name": "python"
    }
  },
  "cells": [
    {
      "cell_type": "markdown",
      "metadata": {
        "id": "view-in-github",
        "colab_type": "text"
      },
      "source": [
        "<a href=\"https://colab.research.google.com/github/LosDatalovers/PRACTICA-PROFESIONALIZANTE-1/blob/main/PRACTICA_PROFESIONALIZANTE_1.ipynb\" target=\"_parent\"><img src=\"https://colab.research.google.com/assets/colab-badge.svg\" alt=\"Open In Colab\"/></a>"
      ]
    },
    {
      "cell_type": "markdown",
      "source": [
        "Grupo: Los Data Lovers  \n",
        "\n",
        "Integrantes:\n",
        "\n",
        "1)- Almada, Sergio Daniel\n",
        "\n",
        "2)- Beltramone, Mateo\n",
        "\n",
        "3)- Guzmán, Nahir Dayana\n",
        "\n",
        "4)- Navarro, Paola Giselle\n",
        "\n",
        "5)- Oro, Yamil Elías\n",
        "\n",
        "6)- Rivera Luna, Gonzalo Ezequiel\n",
        "\n",
        "7)- Rojas, Marisa\n"
      ],
      "metadata": {
        "id": "ljRGUZ0hrSl5"
      }
    },
    {
      "cell_type": "code",
      "execution_count": null,
      "metadata": {
        "colab": {
          "base_uri": "https://localhost:8080/"
        },
        "id": "hRR1ffPon3EN",
        "outputId": "ad8a689c-cdc7-42f9-f914-11115c038f91"
      },
      "outputs": [
        {
          "output_type": "stream",
          "name": "stdout",
          "text": [
            "fatal: destination path 'PRACTICA-PROFESIONALIZANTE-1' already exists and is not an empty directory.\n"
          ]
        }
      ],
      "source": [
        "!git clone https://github.com/LosDatalovers/PRACTICA-PROFESIONALIZANTE-1.git"
      ]
    },
    {
      "cell_type": "code",
      "source": [
        "cd /content/PRACTICA-PROFESIONALIZANTE-1/Datos Excel/"
      ],
      "metadata": {
        "colab": {
          "base_uri": "https://localhost:8080/"
        },
        "id": "rJYikX-5-USb",
        "outputId": "80272143-cfc3-484c-c037-a901f2443265"
      },
      "execution_count": null,
      "outputs": [
        {
          "output_type": "stream",
          "name": "stdout",
          "text": [
            "/content/PRACTICA-PROFESIONALIZANTE-1/Datos Excel\n"
          ]
        }
      ]
    },
    {
      "cell_type": "code",
      "source": [
        "ls"
      ],
      "metadata": {
        "colab": {
          "base_uri": "https://localhost:8080/"
        },
        "id": "DM2xgBE8_K9N",
        "outputId": "32cf8a24-e0e6-47d2-91ee-0b34649a1da3"
      },
      "execution_count": null,
      "outputs": [
        {
          "output_type": "stream",
          "name": "stdout",
          "text": [
            "'Carpetas_Set 20240328.xlsx'   Resumen_Estadistico_Agua.xlsx\n",
            " datos                         Resumen_Estadistico_Energia.xlsx\n"
          ]
        }
      ]
    },
    {
      "cell_type": "code",
      "source": [],
      "metadata": {
        "id": "8x6YMzMN_M6l"
      },
      "execution_count": null,
      "outputs": []
    }
  ]
}